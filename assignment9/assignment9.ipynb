{
 "cells": [
  {
   "attachments": {},
   "cell_type": "markdown",
   "metadata": {},
   "source": [
    "# Assignment 9"
   ]
  },
  {
   "attachments": {},
   "cell_type": "markdown",
   "metadata": {},
   "source": [
    "## Try to submit as an HTML file"
   ]
  },
  {
   "attachments": {},
   "cell_type": "markdown",
   "metadata": {},
   "source": [
    "<font size = \"5\">\n",
    "Print your Emory ID below"
   ]
  },
  {
   "cell_type": "code",
   "execution_count": 1,
   "metadata": {},
   "outputs": [
    {
     "name": "stdout",
     "output_type": "stream",
     "text": [
      "Sara Perez\n"
     ]
    }
   ],
   "source": [
    "# Write your answer here:\n",
    "print (\"Sara Perez\")"
   ]
  },
  {
   "attachments": {},
   "cell_type": "markdown",
   "metadata": {},
   "source": [
    "<font size = \"5\">\n",
    "\n",
    "Import the \"pandas\" and \n",
    "\n",
    "\"sqlalchemy\",\"URL\", and \"text\" libraries from \"sqlalchemy\" <br>\n"
   ]
  },
  {
   "cell_type": "markdown",
   "metadata": {},
   "source": []
  },
  {
   "cell_type": "code",
   "execution_count": 7,
   "metadata": {},
   "outputs": [],
   "source": [
    "# Write your answer here:\n",
    "\n",
    "import pandas as pd\n",
    "from sqlalchemy import create_engine, text\n",
    "from sqlalchemy.engine import URL "
   ]
  },
  {
   "attachments": {},
   "cell_type": "markdown",
   "metadata": {},
   "source": [
    "<font size = \"5\">\n",
    "\n",
    "Establish a connection to the SQL server and database ```postgres``` <br>\n",
    "from Python as done in  class  using <br>\n",
    "```URL()``` and ```create_engine()```<br>\n",
    "As we are are in the default database, you can leave out the database argument."
   ]
  },
  {
   "cell_type": "code",
   "execution_count": 8,
   "metadata": {},
   "outputs": [],
   "source": [
    "# Write your own code\n",
    "\n",
    "\n",
    "url_server = URL.create(\n",
    "    \"postgresql\",\n",
    "    host = 'localhost',\n",
    "    database = 'postgres',\n",
    "    username = 'postgres',\n",
    "    port = 5432,\n",
    "    password  = \"\")\n",
    "\n",
    "connection = create_engine(url_server) "
   ]
  },
  {
   "attachments": {},
   "cell_type": "markdown",
   "metadata": {},
   "source": [
    "<font size = \"5\">\n",
    "\n",
    "In this homework, you will repeat most of the  exercises in <br>\n",
    "Assignment 8, this time accessing SQL indirectly <br>\n",
    "from Python\n",
    "\n",
    "<font size = \"3\">\n",
    "\n",
    "- For (a)-(e) read the section <br>\n",
    "on \"Escape Characters\" carefully and how to write <br>\n",
    "strings in multiple lines\n",
    "- Ensure for each exercise you are using the specific Python commands(ie-pd.read_sql)"
   ]
  },
  {
   "attachments": {},
   "cell_type": "markdown",
   "metadata": {},
   "source": [
    "\n",
    "<font size = \"5\">\n",
    "\n",
    "(a) Upload dataset to SQL\n",
    "\n",
    "\n",
    "<font size = \"3\">\n",
    "\n",
    "- Read the file \"homework9_table.csv\" in the \"data_raw\" folder\n",
    "- Upload the file to your local SQL server using the <br>\n",
    "\"to_sql\" command. Call the new file \"sprint_results\" in the <br>\n",
    "server"
   ]
  },
  {
   "cell_type": "code",
   "execution_count": 11,
   "metadata": {},
   "outputs": [
    {
     "data": {
      "text/plain": [
       "10"
      ]
     },
     "execution_count": 11,
     "metadata": {},
     "output_type": "execute_result"
    }
   ],
   "source": [
    "# Write your own code\n",
    "\n",
    "df = pd.read_csv('/Users/saraperez/Documents/GitHub/QTM151_2024/assignment9/data_raw/homework9_table.csv')\n",
    "\n",
    "df.to_sql('sprint_results', con=connection, if_exists='replace', index=False)\n"
   ]
  },
  {
   "cell_type": "markdown",
   "metadata": {},
   "source": [
    "\n",
    "<font size = \"5\">\n",
    "\n",
    "For questions (b)-(e) we will be working with the table <br>\n",
    "``` homework9_table ``` in the SQL server. You are required to use <br>\n",
    "the ```read_sql``` command for all the following questions."
   ]
  },
  {
   "cell_type": "markdown",
   "metadata": {},
   "source": [
    "\n",
    "<font size = \"5\">\n",
    "\n",
    "(b) Subset and sort\n",
    "\n",
    "\n",
    "<font size = \"3\">\n",
    "\n",
    "- Use ```WHERE``` to get a subset of \"homework9_table\" to subset <br>\n",
    "drivers whose nationality is British.\n",
    "- Chain this with ```ORDER BY driver_name ASC``` to sort in <br>\n",
    "ascending order <br>\n",
    "Hints:\n",
    "- Remember to include a  ```\\```  to be able to define strings over multiple lines\n",
    "- We can include single quotations in the WHERE command without any additional escape characters"
   ]
  },
  {
   "cell_type": "code",
   "execution_count": 19,
   "metadata": {},
   "outputs": [
    {
     "name": "stdout",
     "output_type": "stream",
     "text": [
      "   driver_id     driver_name nationality  lap_times\n",
      "0          6    Henry Louvre     British         32\n",
      "1          5  Lewis Hamilton     British        103\n",
      "2          1    Simon Cowell     British         74\n"
     ]
    }
   ],
   "source": [
    "# Write your own code\n",
    "\n",
    "query = \"\"\"\n",
    "SELECT *\n",
    "FROM homework_data\n",
    "WHERE nationality = 'British'\n",
    "ORDER BY driver_name ASC;\n",
    "\"\"\"\n",
    "\n",
    "df_british_drivers = pd.read_sql(query, connection)\n",
    "\n",
    "print(df_british_drivers)\n",
    "\n",
    "#note to self: refer to lecture 18 \n"
   ]
  },
  {
   "attachments": {},
   "cell_type": "markdown",
   "metadata": {},
   "source": [
    "<font size = \"5\">\n",
    "\n",
    "(c) Groupby + Aggregate + Sort\n",
    "\n",
    "<font size = \"3\">\n",
    "\n",
    "- Obtain the average of \"lap_times\" by \"driverId\" using ```GROUP BY```\n",
    "- Use ```ORDER BY ``` to sort by the average of \"lap_times\"\n",
    "- Make sure to seperate pieces of your logic over seperate lines  by a ```\\```\n"
   ]
  },
  {
   "cell_type": "code",
   "execution_count": 27,
   "metadata": {},
   "outputs": [
    {
     "name": "stdout",
     "output_type": "stream",
     "text": [
      "   driver_id  average_lap_times\n",
      "0          9               11.0\n",
      "1         10               24.0\n",
      "2          2               26.0\n",
      "3          6               32.0\n",
      "4          8               53.0\n",
      "5          1               74.0\n",
      "6          3               82.0\n",
      "7          4               87.0\n",
      "8          7               91.0\n",
      "9          5              103.0\n"
     ]
    }
   ],
   "source": [
    "# Write your own code\n",
    "\n",
    "query = text(\"\"\" \n",
    "SELECT \"driver_id\", \n",
    "       AVG(\"lap_times\") AS average_lap_times\n",
    "FROM homework_data\n",
    "GROUP BY \"driver_id\"\n",
    "ORDER BY average_lap_times;\n",
    "\"\"\")\n",
    "\n",
    "df_average_lap_times = pd.read_sql(query, connection)\n",
    "\n",
    "\n",
    "print(df_average_lap_times)  \n",
    "\n",
    "\n",
    "\n"
   ]
  },
  {
   "attachments": {},
   "cell_type": "markdown",
   "metadata": {},
   "source": [
    "<font size = \"5\">\n",
    "\n",
    "(d) Groupby + Aggregate + Sort\n",
    "\n",
    "<font size = \"3\">\n",
    "\n",
    "- Obtain the sum of \"lap_times\" by nationality using ```GROUP BY```\n",
    "- Use ```HAVING ``` to filter nationalities with a sum <br>\n",
    "of lap times strictly higher than 150\n",
    "- Make sure to seperate pieces of your logic over seperate lines  by a ```\\```\n",
    "\n",
    "\n",
    "\n",
    "HINT: See the end of lecture 16 for details <br>\n",
    "HINT: Use ```HAVING SUM(lap_times)``` rather than an alias <br>\n",
    "for the code to work correctly."
   ]
  },
  {
   "cell_type": "code",
   "execution_count": 29,
   "metadata": {},
   "outputs": [
    {
     "name": "stdout",
     "output_type": "stream",
     "text": [
      "  nationality  total_lap_times\n",
      "0      German              261\n",
      "1     British              209\n"
     ]
    }
   ],
   "source": [
    "# Write your own code\n",
    "\n",
    "query = text(\"\"\"\n",
    "SELECT nationality, \n",
    "       SUM(lap_times) AS total_lap_times\n",
    "FROM homework_data\n",
    "GROUP BY nationality\n",
    "HAVING SUM(lap_times) > 150\n",
    "ORDER BY total_lap_times DESC;\n",
    "\"\"\")\n",
    "\n",
    "df_nationality_lap_times = pd.read_sql(query, connection)\n",
    "\n",
    "print(df_nationality_lap_times)\n",
    "\n",
    "\n",
    "\n"
   ]
  },
  {
   "attachments": {},
   "cell_type": "markdown",
   "metadata": {},
   "source": [
    "<font size = \"5\">\n",
    "\n",
    "(e) Groupby and multiple aggregations\n",
    "\n",
    "<font size = \"3\">\n",
    "\n",
    "- In this exercise we will obtain multiple statistics about each nationality and their lap times.\n",
    "-  Obtain the sum, min, max, and range of each nationality's lap times using ```GROUP BY```\n",
    "- Make sure to separate pieces of your code by a ```\\``` <br>\n",
    "HINT: There is no built in range function in SQL, however you can use the <br>\n",
    "MAX and MIN functions to build your own function, like this:\n",
    "\n",
    "``` MAX(lap_times)-MIN(lap_times) AS range_laptimes```"
   ]
  },
  {
   "cell_type": "code",
   "execution_count": 30,
   "metadata": {},
   "outputs": [
    {
     "name": "stdout",
     "output_type": "stream",
     "text": [
      "  nationality  total_lap_times  min_lap_time  max_lap_time  range_lap_times\n",
      "0      German              261            11            91               80\n",
      "1     British              209            32           103               71\n",
      "2     Spanish              113            26            87               61\n"
     ]
    }
   ],
   "source": [
    "# Write your own code\n",
    "\n",
    "query = text(\"\"\"\n",
    "SELECT nationality, \n",
    "       SUM(lap_times) AS total_lap_times, \n",
    "       MIN(lap_times) AS min_lap_time, \n",
    "       MAX(lap_times) AS max_lap_time, \n",
    "       MAX(lap_times) - MIN(lap_times) AS range_lap_times\n",
    "FROM homework_data\n",
    "GROUP BY nationality\n",
    "ORDER BY total_lap_times DESC;\n",
    "\"\"\")\n",
    "\n",
    "\n",
    "df_nationality_stats = pd.read_sql(query, connection)\n",
    "\n",
    "\n",
    "print(df_nationality_stats) \n",
    "\n"
   ]
  }
 ],
 "metadata": {
  "kernelspec": {
   "display_name": "base",
   "language": "python",
   "name": "python3"
  },
  "language_info": {
   "codemirror_mode": {
    "name": "ipython",
    "version": 3
   },
   "file_extension": ".py",
   "mimetype": "text/x-python",
   "name": "python",
   "nbconvert_exporter": "python",
   "pygments_lexer": "ipython3",
   "version": "3.11.5"
  },
  "orig_nbformat": 4,
  "vscode": {
   "interpreter": {
    "hash": "45fc1f684f6f416f40889115beff3ddf69879b64cf4bfee48cb72a61e9d15d1a"
   }
  }
 },
 "nbformat": 4,
 "nbformat_minor": 2
}
