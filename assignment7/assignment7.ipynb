{
 "cells": [
  {
   "attachments": {},
   "cell_type": "markdown",
   "metadata": {},
   "source": [
    "# Assignment 7"
   ]
  },
  {
   "attachments": {},
   "cell_type": "markdown",
   "metadata": {},
   "source": [
    "## Submit as an HTML file"
   ]
  },
  {
   "attachments": {},
   "cell_type": "markdown",
   "metadata": {},
   "source": [
    "<font size = \"5\">\n",
    "Print your name below"
   ]
  },
  {
   "cell_type": "code",
   "execution_count": 1,
   "metadata": {},
   "outputs": [
    {
     "name": "stdout",
     "output_type": "stream",
     "text": [
      "Sara Perez\n"
     ]
    }
   ],
   "source": [
    "print (\"Sara Perez\")"
   ]
  },
  {
   "attachments": {},
   "cell_type": "markdown",
   "metadata": {},
   "source": [
    "<font size = \"5\">\n",
    "\n",
    "Import the \"pandas\" and \"numpy\" library"
   ]
  },
  {
   "cell_type": "code",
   "execution_count": 2,
   "metadata": {},
   "outputs": [],
   "source": [
    "# Write your answer here:\n",
    "\n",
    "import pandas as pd \n",
    "import numpy as np \n",
    "\n"
   ]
  },
  {
   "attachments": {},
   "cell_type": "markdown",
   "metadata": {},
   "source": [
    "<font size = \"5\">\n",
    "\n",
    "(a) Replace values from intervals\n",
    "\n",
    "<font size = \"3\">\n",
    "\n",
    "- Import the dataset \"data_raw/students.csv\" to a new object \"students\"\n",
    "- Use \"pd.cut()\" to assign the column \"numericgrade\" to a letter grade <br>\n",
    "\n",
    "- Using the following grading scale: <br>\n",
    "\n",
    "<img src=\"figures/grading_scale.png\" alt=\"drawing\" width=\"600\"/>\n"
   ]
  },
  {
   "cell_type": "code",
   "execution_count": 6,
   "metadata": {},
   "outputs": [
    {
     "name": "stdout",
     "output_type": "stream",
     "text": [
      "   studentid  numericgrade letter_grade\n",
      "0          1            61           C-\n",
      "1          2             0            F\n",
      "2          3            14            F\n",
      "3          4            57            D\n",
      "4          5            72           C+\n"
     ]
    }
   ],
   "source": [
    "students = pd.read_csv(\"data_raw/students.csv\")\n",
    "\n",
    "bins = [0, 54, 59, 64, 69, 74, 79, 82, 86, 92, 100]\n",
    "labels = ['F', 'D', 'C-', 'C', 'C+', 'B-', 'B', 'B+', 'A-', 'A']\n",
    "\n",
    "students['letter_grade'] = pd.cut(students['numericgrade'], bins=bins, labels=labels, right=False)\n",
    "\n",
    "print(students.head())"
   ]
  },
  {
   "attachments": {},
   "cell_type": "markdown",
   "metadata": {},
   "source": [
    "<font size = \"5\">\n",
    "\n",
    "For questions (b)-(e) use \"results.csv\", <br>\n",
    "a dataset on competitive car racing\n",
    "\n",
    "Import the dataset \"data_raw/results.csv\" to <br>\n",
    " a new object \"results\""
   ]
  },
  {
   "cell_type": "code",
   "execution_count": 7,
   "metadata": {},
   "outputs": [],
   "source": [
    "# Write your own code\n",
    "\n",
    "results = pd.read_csv(\"data_raw/results.csv\")\n",
    "\n"
   ]
  },
  {
   "attachments": {},
   "cell_type": "markdown",
   "metadata": {},
   "source": [
    "<font size = \"5\">\n",
    "\n",
    "(b) Check column types\n",
    "\n",
    "<font size = \"3\">\n",
    "\n",
    "- View the dataset\n",
    "- Use the function \"results.dtypes\" to get the column types\n",
    "- Search for the \"results\" table in \"codebook/f1_codebook.pdf\".\n",
    "- Does the type of the \"time\" column agree with the codebook? <br>\n",
    "i.e. is it an integer, float, or string/object?\n",
    "\n",
    "\n",
    "HINT: See Lectures 12 and 14 for how to interpret the codebook\n"
   ]
  },
  {
   "cell_type": "code",
   "execution_count": 10,
   "metadata": {},
   "outputs": [
    {
     "name": "stdout",
     "output_type": "stream",
     "text": [
      "resultId             int64\n",
      "raceId               int64\n",
      "driverId             int64\n",
      "constructorId        int64\n",
      "number              object\n",
      "grid                 int64\n",
      "position            object\n",
      "positionText        object\n",
      "positionOrder        int64\n",
      "points             float64\n",
      "laps                 int64\n",
      "time                object\n",
      "milliseconds        object\n",
      "fastestLap          object\n",
      "rank                object\n",
      "fastestLapTime      object\n",
      "fastestLapSpeed     object\n",
      "statusId             int64\n",
      "dtype: object\n",
      "Data type for the 'time' column is: object\n",
      "The 'time' column data type agrees with the codebook since it is a string.\n"
     ]
    }
   ],
   "source": [
    "# Write your own code here\n",
    "# Note: When you run \"results.dtypes\" you will get the type (int, float, object)\n",
    "# Object represents columns coded as strings.\n",
    "\n",
    "column_types = results.dtypes\n",
    "print(column_types) \n",
    "\n",
    "time_column_type = results['time'].dtype\n",
    "print(f\"Data type for the 'time' column is: {time_column_type}\")\n",
    "\n",
    "if time_column_type == 'object':\n",
    "    print(\"The 'time' column data type agrees with the codebook since it is a string.\")\n",
    "else:\n",
    "    print(\"The 'time' column data type does not agree with the codebook.\")\n",
    "\n",
    "#Data type for 'time column' is object and agrees with the notebook since it is a string"
   ]
  },
  {
   "attachments": {},
   "cell_type": "markdown",
   "metadata": {},
   "source": [
    "<font size = \"5\">\n",
    "\n",
    "(c) Clean a column\n",
    "\n",
    "<font size = \"3\">\n",
    "\n",
    "- Import the dataset \"data_raw/results.csv\" to a new object \"results\"\n",
    "- Our goal is to replace any string values in the column \"milliseconds\" <br>\n",
    "to missing values (NaNs) and covert to numeric\n",
    "- To do so\n",
    "    - \"Extract list of non-numeric values\"\n",
    "    - \"Replace certain values\"\n",
    "    - \"Convert column to numeric\"\n",
    "    - \"Display\"\n",
    " \n"
   ]
  },
  {
   "cell_type": "code",
   "execution_count": 15,
   "metadata": {},
   "outputs": [
    {
     "name": "stdout",
     "output_type": "stream",
     "text": [
      "Unique non-numeric values in 'milliseconds':\n",
      "['\\\\N']\n",
      "0    5690616.0\n",
      "1    5696094.0\n",
      "2    5698779.0\n",
      "3    5707797.0\n",
      "4    5708630.0\n",
      "Name: milliseconds, dtype: float64\n"
     ]
    }
   ],
   "source": [
    "# Write your own code here\n",
    "\n",
    "#refer to lecture 12 \n",
    "results = pd.read_csv(\"data_raw/results.csv\")\n",
    "\n",
    "results['milliseconds'] = results['milliseconds'].astype(str)\n",
    "\n",
    "#query to find rows where millisecond is NaN\n",
    "subset = results.query(\"milliseconds.str.isnumeric() == False\")\n",
    "list_unique = pd.unique(subset['milliseconds'])\n",
    "\n",
    "print(\"Unique non-numeric values in 'milliseconds':\") #extract list of non-numeric values \n",
    "print(list_unique)\n",
    "\n",
    "list_old = list_unique  #replace certain values with NaN \n",
    "list_new = [np.nan] * len(list_old)\n",
    "\n",
    "results['milliseconds'] = results['milliseconds'].replace(list_old, list_new)\n",
    "\n",
    "results['milliseconds'] = pd.to_numeric(results['milliseconds'], errors='coerce') #convert column to numeric \n",
    " \n",
    "print(results['milliseconds'].head()) #display \n",
    "\n"
   ]
  },
  {
   "attachments": {},
   "cell_type": "markdown",
   "metadata": {},
   "source": [
    "<font size = \"5\">\n",
    "\n",
    "(d) Groupby + Aggregate\n",
    "\n",
    "<font size = \"3\">\n",
    "\n",
    "- Compute the mean and standard deviation of \"laps\", <br>\n",
    "grouping by \"constructorId\". Store the new dataset <br>\n",
    "as \"df_aggCon_pos\"\n",
    "- Sort the aggregate dataset in decending <br>\n",
    "order of mean laps using \".sort_values()\"\n",
    "\n"
   ]
  },
  {
   "cell_type": "code",
   "execution_count": 16,
   "metadata": {},
   "outputs": [
    {
     "name": "stdout",
     "output_type": "stream",
     "text": [
      "     constructorId   mean_laps    sd_laps\n",
      "146            149  198.500000   2.121320\n",
      "109            112  197.000000   4.242641\n",
      "106            109  184.285714  32.912583\n",
      "116            119  178.666667  36.950417\n",
      "105            108  163.764706  63.148168\n",
      "..             ...         ...        ...\n",
      "90              93    0.000000        NaN\n",
      "59              61    0.000000   0.000000\n",
      "134            137    0.000000        NaN\n",
      "88              91    0.000000        NaN\n",
      "72              74    0.000000   0.000000\n",
      "\n",
      "[210 rows x 3 columns]\n"
     ]
    }
   ],
   "source": [
    "# Write your own code\n",
    "\n",
    "#refer to lecture 14 \n",
    "\n",
    "df_aggCon_pos = (results.groupby('constructorId')\n",
    "                         .agg(mean_laps=('laps', 'mean'),\n",
    "                              sd_laps=('laps', 'std'))\n",
    "                         .reset_index() \n",
    ")\n",
    "\n",
    "df_aggCon_pos = df_aggCon_pos.sort_values(by='mean_laps', ascending=False)\n",
    "\n",
    "print(df_aggCon_pos)\n"
   ]
  },
  {
   "attachments": {},
   "cell_type": "markdown",
   "metadata": {},
   "source": [
    "<font size = \"5\" >\n",
    "\n",
    "(e) Query + Groupby + Aggregate\n",
    "\n",
    "<font size = \"3\">\n",
    "\n",
    "- Use \".query()\" to subset observations with <br>\n",
    "'race_id >= 150'\n",
    "- Compute the mean and standard deviation of \"position\", <br>\n",
    "grouping by \"constructorId\". Store the new dataset <br>\n",
    "as \"df_subAggCon_pos\"\n"
   ]
  },
  {
   "cell_type": "code",
   "execution_count": 18,
   "metadata": {},
   "outputs": [
    {
     "name": "stdout",
     "output_type": "stream",
     "text": [
      "     constructorId  mean_position  sd_position\n",
      "0                1       6.121634     4.294358\n",
      "1                3       7.983836     5.509701\n",
      "2                4       8.617834     4.388534\n",
      "3                5      11.430868     3.157308\n",
      "4                6       4.733661     3.395834\n",
      "..             ...            ...          ...\n",
      "198            209      16.333333     2.420002\n",
      "199            210      13.293860     3.770574\n",
      "200            211       9.230769     4.030234\n",
      "201            213      10.519608     3.842777\n",
      "202            214       8.763158     3.354076\n",
      "\n",
      "[203 rows x 3 columns]\n"
     ]
    }
   ],
   "source": [
    "# Write your own code\n",
    "\n",
    "#refer to lecture 14 \n",
    "\n",
    "results['position'] = pd.to_numeric(results['position'], errors='coerce') #initial error on non numeric values. need to convert first. \n",
    "\n",
    "df_subAggCon_pos = (results.query(\"raceId >= 150\")\n",
    "                           .groupby(\"constructorId\")\n",
    "                           .agg(mean_position=('position', 'mean'),\n",
    "                                sd_position=('position', 'std'))\n",
    "                           .reset_index() \n",
    ")\n",
    "\n",
    "print(df_subAggCon_pos)\n",
    "\n",
    "\n",
    "\n"
   ]
  }
 ],
 "metadata": {
  "kernelspec": {
   "display_name": "base",
   "language": "python",
   "name": "python3"
  },
  "language_info": {
   "codemirror_mode": {
    "name": "ipython",
    "version": 3
   },
   "file_extension": ".py",
   "mimetype": "text/x-python",
   "name": "python",
   "nbconvert_exporter": "python",
   "pygments_lexer": "ipython3",
   "version": "3.11.5"
  },
  "orig_nbformat": 4,
  "vscode": {
   "interpreter": {
    "hash": "45fc1f684f6f416f40889115beff3ddf69879b64cf4bfee48cb72a61e9d15d1a"
   }
  }
 },
 "nbformat": 4,
 "nbformat_minor": 2
}
