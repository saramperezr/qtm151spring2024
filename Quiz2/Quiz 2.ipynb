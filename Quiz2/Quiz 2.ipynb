{
 "cells": [
  {
   "attachments": {},
   "cell_type": "markdown",
   "metadata": {},
   "source": [
    "# <span style=\"color:darkblue\"> QTM 151 - Quiz 2 </span>"
   ]
  },
  {
   "attachments": {},
   "cell_type": "markdown",
   "metadata": {},
   "source": [
    "## Try to submit as an HTML file"
   ]
  },
  {
   "attachments": {},
   "cell_type": "markdown",
   "metadata": {},
   "source": [
    "<font size=\"5\"> \n",
    "\n",
    "Print your name below"
   ]
  },
  {
   "cell_type": "code",
   "execution_count": 1,
   "metadata": {},
   "outputs": [
    {
     "name": "stdout",
     "output_type": "stream",
     "text": [
      "Sara Pérez\n"
     ]
    }
   ],
   "source": [
    "# Write your answer here\n",
    "\n",
    "print (\"Sara Pérez\")\n"
   ]
  },
  {
   "attachments": {},
   "cell_type": "markdown",
   "metadata": {},
   "source": [
    "<font size = \"5\" >\n",
    "This quiz is open book \n",
    "\n",
    "- You can use the lecture notes\n",
    "- You will get partial credit for attempting the questions\n",
    "- To get full credit, the code should run as intended\n",
    "- You should <span style=\"color:red\"> NOT </span> communicate with other students\n",
    "\n",
    "Print the following message: <br>\n",
    "\n",
    "\"I will abide by Emory's code of conduct\"\n"
   ]
  },
  {
   "cell_type": "code",
   "execution_count": 2,
   "metadata": {},
   "outputs": [
    {
     "name": "stdout",
     "output_type": "stream",
     "text": [
      "I will abide by Emory's code of conduct\n"
     ]
    }
   ],
   "source": [
    "# Write your answer here:\n",
    "\n",
    "print (\"I will abide by Emory's code of conduct\")\n"
   ]
  },
  {
   "attachments": {},
   "cell_type": "markdown",
   "metadata": {},
   "source": [
    "<font size = \"5\">\n",
    "\n",
    "Import the libraries \"numpy\", \"matplotlib.pyplot\", <br>\n",
    "\"pandas\", \"statsmodels.api\" and \"statsmodels.formula.api\"\n"
   ]
  },
  {
   "cell_type": "code",
   "execution_count": 2,
   "metadata": {},
   "outputs": [],
   "source": [
    "# Write your answer here\n",
    "\n",
    "import numpy as np\n",
    "import matplotlib.pyplot as plt\n",
    "import pandas as pd\n",
    "import statsmodels.api as sm\n",
    "import statsmodels.formula.api as smf"
   ]
  },
  {
   "attachments": {},
   "cell_type": "markdown",
   "metadata": {},
   "source": [
    "<font size = \"5\">\n",
    "\n",
    "Read the dataset \"data_quiz/fifa23_players_basic.csv\"\n",
    "\n",
    "- It's a dataset on professional soccer players\n",
    "- Rows correspond to players (18,539)\n",
    "- Columns contain attributes of players (32)\n",
    "- Try to view the dataset before starting <br>\n",
    "to get a sense of its content"
   ]
  },
  {
   "cell_type": "code",
   "execution_count": 3,
   "metadata": {},
   "outputs": [],
   "source": [
    "# Write your own code\n",
    "\n",
    "df = pd.read_csv(\"/Users/saraperez/Documents/GitHub/QTM151_2024/Quiz2/data_quiz/fifa23_players_basic.csv\") \n",
    "\n"
   ]
  },
  {
   "attachments": {},
   "cell_type": "markdown",
   "metadata": {},
   "source": [
    "<font size = \"5\">\n",
    "\n",
    "(a) Use queries + global variables\n",
    "\n",
    "<font size = \"3\">\n",
    "\n",
    "- Subset the players whose value of the column \"On Loan\" is \"YES\" <br>\n",
    "and store it in a new dataset\n",
    "- How many players are on loan?\n",
    "\n",
    "HINT: Remember that there is a special syntax for <br>\n",
    "when the column names have spaces (see Lecture 10) <br>\n",
    "and when the value is a string. <br>\n",
    "Reference the column as ``` `On Loan` ``` inside .query()"
   ]
  },
  {
   "cell_type": "code",
   "execution_count": 7,
   "metadata": {},
   "outputs": [
    {
     "name": "stdout",
     "output_type": "stream",
     "text": [
      "     Unnamed: 0      Known As                   Full Name  Overall  Potential  \\\n",
      "45           45     R. Lukaku               Romelu Lukaku       86         86   \n",
      "154         154      Angeliño  José Ángel Esmoris Tasende       83         85   \n",
      "191         191  A. Griezmann           Antoine Griezmann       83         83   \n",
      "204         204  M. Locatelli            Manuel Locatelli       82         86   \n",
      "205         205     R. Gosens                Robin Gosens       82         82   \n",
      "\n",
      "     Value(in Euro) Positions Played Best Position Nationality  \\\n",
      "45         68000000               ST            ST     Belgium   \n",
      "154        42000000           LWB,LM            LM       Spain   \n",
      "191        30500000         ST,CF,RW           CAM      France   \n",
      "204        40000000           CDM,CM            CM       Italy   \n",
      "205        29500000           LWB,LM           LWB     Germany   \n",
      "\n",
      "                                           Image Link  ...  Preferred Foot  \\\n",
      "45   https://cdn.sofifa.net/players/192/505/23_60.png  ...            Left   \n",
      "154  https://cdn.sofifa.net/players/220/651/23_60.png  ...            Left   \n",
      "191  https://cdn.sofifa.net/players/194/765/23_60.png  ...            Left   \n",
      "204  https://cdn.sofifa.net/players/222/077/23_60.png  ...           Right   \n",
      "205  https://cdn.sofifa.net/players/223/697/23_60.png  ...            Left   \n",
      "\n",
      "     Weak Foot Rating  Skill Moves  International Reputation  \\\n",
      "45                  4            3                         4   \n",
      "154                 3            4                         2   \n",
      "191                 3            4                         4   \n",
      "204                 4            3                         2   \n",
      "205                 3            3                         3   \n",
      "\n",
      "     National Team Name             National Team Image Link  \\\n",
      "45              Belgium  https://cdn.sofifa.net/flags/be.png   \n",
      "154                   -  https://cdn.sofifa.net/flags/es.png   \n",
      "191              France  https://cdn.sofifa.net/flags/fr.png   \n",
      "204               Italy  https://cdn.sofifa.net/flags/it.png   \n",
      "205             Germany  https://cdn.sofifa.net/flags/de.png   \n",
      "\n",
      "     National Team Position  National Team Jersey Number Attacking Work Rate  \\\n",
      "45                       ST                            9              Medium   \n",
      "154                       -                            -                High   \n",
      "191                     CAM                            7              Medium   \n",
      "204                     SUB                            5              Medium   \n",
      "205                     SUB                           16                High   \n",
      "\n",
      "    Defensive Work Rate  \n",
      "45                  Low  \n",
      "154                High  \n",
      "191              Medium  \n",
      "204                High  \n",
      "205              Medium  \n",
      "\n",
      "[5 rows x 33 columns]\n",
      "Number of players on loan: 1229\n"
     ]
    }
   ],
   "source": [
    "# Write your own code\n",
    "\n",
    "players_on_loan = df.query(\"`On Loan` == 'YES'\") #to subset players on loan is \"YES\"\n",
    "print(players_on_loan.head()) #check data \n",
    "\n",
    "#how many players are on loan: \n",
    "number_of_players_on_loan = len(players_on_loan)\n",
    "\n",
    "print(f\"Number of players on loan: {number_of_players_on_loan}\") \n",
    "\n"
   ]
  },
  {
   "attachments": {},
   "cell_type": "markdown",
   "metadata": {},
   "source": [
    "<font size = \"5\">\n",
    "\n",
    "(b) Create a function and apply it to a column <br>\n",
    "\n",
    "<font size = \"3\">\n",
    "\n",
    "Step 1:\n",
    "- Define a function with a parameter \"Overall\"\n",
    "- If \"Overall > 90\", classification = \"Top Performer\"\n",
    "- If \"Overall <= 90\", classification = \"Non Top-Performer\"\n",
    "- The function returns \"classification\"\n",
    "\n",
    "Step 2:\n",
    "- Extract the column \"Overall\" in the dataset <br>\n",
    "(be carefeful to write the \"O\" capitalized)\n",
    "- Create a new variable called \"player_classification\" <br>\n",
    "to assign each player to the correct classification\n",
    "\n",
    "HINT: Use the \".apply()\" function"
   ]
  },
  {
   "cell_type": "code",
   "execution_count": 9,
   "metadata": {},
   "outputs": [
    {
     "name": "stdout",
     "output_type": "stream",
     "text": [
      "Number of Top Performers: 5\n",
      "['Unnamed: 0' 'Known As' 'Full Name' 'Overall' 'Potential'\n",
      " 'Value(in Euro)' 'Positions Played' 'Best Position' 'Nationality'\n",
      " 'Image Link' 'Age' 'Height(in cm)' 'Weight(in kg)' 'TotalStats'\n",
      " 'BaseStats' 'Club Name' 'Wage(in Euro)' 'Release Clause' 'Club Position'\n",
      " 'Contract Until' 'Club Jersey Number' 'Joined On' 'On Loan'\n",
      " 'Preferred Foot' 'Weak Foot Rating' 'Skill Moves'\n",
      " 'International Reputation' 'National Team Name'\n",
      " 'National Team Image Link' 'National Team Position'\n",
      " 'National Team Jersey Number' 'Attacking Work Rate' 'Defensive Work Rate'\n",
      " 'Player Classification']\n",
      "   Unnamed: 0        Known As           Full Name  Overall  Potential  \\\n",
      "0           0        L. Messi        Lionel Messi       91         91   \n",
      "1           1      K. Benzema       Karim Benzema       91         91   \n",
      "2           2  R. Lewandowski  Robert Lewandowski       91         91   \n",
      "3           3    K. De Bruyne     Kevin De Bruyne       91         91   \n",
      "4           4       K. Mbappé       Kylian Mbappé       91         95   \n",
      "\n",
      "   Value(in Euro) Positions Played Best Position Nationality  \\\n",
      "0        54000000               RW           CAM   Argentina   \n",
      "1        64000000            CF,ST            CF      France   \n",
      "2        84000000               ST            ST      Poland   \n",
      "3       107500000           CM,CAM            CM     Belgium   \n",
      "4       190500000            ST,LW            ST      France   \n",
      "\n",
      "                                         Image Link  ...  Weak Foot Rating  \\\n",
      "0  https://cdn.sofifa.net/players/158/023/23_60.png  ...                 4   \n",
      "1  https://cdn.sofifa.net/players/165/153/23_60.png  ...                 4   \n",
      "2  https://cdn.sofifa.net/players/188/545/23_60.png  ...                 4   \n",
      "3  https://cdn.sofifa.net/players/192/985/23_60.png  ...                 5   \n",
      "4  https://cdn.sofifa.net/players/231/747/23_60.png  ...                 4   \n",
      "\n",
      "   Skill Moves  International Reputation  National Team Name  \\\n",
      "0            4                         5           Argentina   \n",
      "1            4                         4              France   \n",
      "2            4                         5              Poland   \n",
      "3            4                         4             Belgium   \n",
      "4            5                         4              France   \n",
      "\n",
      "              National Team Image Link National Team Position  \\\n",
      "0  https://cdn.sofifa.net/flags/ar.png                     RW   \n",
      "1  https://cdn.sofifa.net/flags/fr.png                     ST   \n",
      "2  https://cdn.sofifa.net/flags/pl.png                     ST   \n",
      "3  https://cdn.sofifa.net/flags/be.png                     RF   \n",
      "4  https://cdn.sofifa.net/flags/fr.png                     ST   \n",
      "\n",
      "   National Team Jersey Number  Attacking Work Rate Defensive Work Rate  \\\n",
      "0                           10                  Low                 Low   \n",
      "1                           19               Medium              Medium   \n",
      "2                            9                 High              Medium   \n",
      "3                            7                 High                High   \n",
      "4                           10                 High                 Low   \n",
      "\n",
      "  Player Classification  \n",
      "0         Top Performer  \n",
      "1         Top Performer  \n",
      "2         Top Performer  \n",
      "3         Top Performer  \n",
      "4         Top Performer  \n",
      "\n",
      "[5 rows x 34 columns]\n"
     ]
    }
   ],
   "source": [
    "# Write your own code\n",
    "\n",
    "df = pd.read_csv(\"/Users/saraperez/Documents/GitHub/QTM151_2024/Quiz2/data_quiz/fifa23_players_basic.csv\") #dont think i have to reread \n",
    "\n",
    "#function = \"Overall\" \n",
    "#df['Overall'] = pd.to_numeric(df['overall'], errors='coerce')\n",
    "#is_overall_above_90 = lambda x: x > 90\n",
    "#overall_above_90_hp = df['overall'].apply(is_overall_above_90)\n",
    "#number_of_overall_above_90_hp = overall_above_90_hp.sum()\n",
    "\n",
    "#overall_colnames = df.columns.values\n",
    "#print(overall_colnames)\n",
    "\n",
    "\n",
    "#corrections \n",
    "df['Overall'] = pd.to_numeric(df['Overall'], errors='coerce') #ensure its numeric like in (a) assingnment 6 \n",
    "\n",
    "#define a funcion with paramenter \n",
    "def classify_player(Overall):\n",
    "    if Overall > 90:\n",
    "        return \"Top Performer\"\n",
    "    else:\n",
    "        return \"Non Top-Performer\"\n",
    "\n",
    "df['Player Classification'] = df['Overall'].apply(classify_player)\n",
    "top_performers_count = df['Player Classification'].value_counts().get('Top Performer', 0)\n",
    "print(f\"Number of Top Performers: {top_performers_count}\")\n",
    "\n",
    "print(df.columns.values)\n",
    "print(df.head())\n",
    "\n"
   ]
  },
  {
   "attachments": {},
   "cell_type": "markdown",
   "metadata": {},
   "source": [
    "<font size = \"5\">\n",
    "\n",
    "(c) Use sorting + \".iloc[]\"\n",
    "\n",
    "<font size = \"3\">\n",
    "\n",
    "The varable \"Joined On\" shows the date in which each player joined FIFA\n",
    "- Use \".sort_values()\" to order the \"Joined On\" column <br>\n",
    "from earlier data to later date\n",
    "- Get a subset with the 6 players in the dataset <br>\n",
    "who joined FIFA earliest\n",
    "- From this subset, display the year in which they joined <br>\n",
    "by displaying the column \"Joined On\""
   ]
  },
  {
   "cell_type": "code",
   "execution_count": 11,
   "metadata": {},
   "outputs": [
    {
     "name": "stdout",
     "output_type": "stream",
     "text": [
      "                          Joined On\n",
      "8586  1970-01-01 00:00:00.000002002\n",
      "10877 1970-01-01 00:00:00.000002003\n",
      "4324  1970-01-01 00:00:00.000002004\n",
      "11056 1970-01-01 00:00:00.000002005\n",
      "10360 1970-01-01 00:00:00.000002005\n",
      "11768 1970-01-01 00:00:00.000002005\n",
      "       Year Joined\n",
      "8586          1970\n",
      "10877         1970\n",
      "4324          1970\n",
      "11056         1970\n",
      "10360         1970\n",
      "11768         1970\n"
     ]
    },
    {
     "name": "stderr",
     "output_type": "stream",
     "text": [
      "/var/folders/k_/xh_wf15x77j4lf8t9rgtsgl00000gn/T/ipykernel_4623/983689598.py:18: SettingWithCopyWarning: \n",
      "A value is trying to be set on a copy of a slice from a DataFrame.\n",
      "Try using .loc[row_indexer,col_indexer] = value instead\n",
      "\n",
      "See the caveats in the documentation: https://pandas.pydata.org/pandas-docs/stable/user_guide/indexing.html#returning-a-view-versus-a-copy\n",
      "  joined_players['Year Joined'] = joined_players['Joined On'].dt.year\n"
     ]
    }
   ],
   "source": [
    "# Write your own code\n",
    "\n",
    "#from quiz\n",
    "#df_sorted = df.sort_values(by='Joined On') \n",
    "#joined_players = df_sorted.iloc[:6] \n",
    "#print(joined_players)\n",
    "\n",
    "#joined_colnames = df.columns.values\n",
    "#print(joined_colnames)\n",
    "\n",
    "#revision \n",
    "df['Joined On'] = pd.to_datetime(df['Joined On']) #check joined on is datetime format (missing above)\n",
    "df_sorted = df.sort_values(by='Joined On') #use sort.values() to order joined on column \n",
    "joined_players = df_sorted.iloc[:6] #get a subset with the 6 players \n",
    "print(joined_players[['Joined On']])\n",
    "\n",
    "#display and check years (second part)\n",
    "joined_players['Year Joined'] = joined_players['Joined On'].dt.year\n",
    "print(joined_players[['Year Joined']])\n",
    "\n",
    "\n",
    "\n"
   ]
  },
  {
   "attachments": {},
   "cell_type": "markdown",
   "metadata": {},
   "source": [
    "<font size = \"5\">\n",
    "\n",
    "(d) Regression function\n",
    "\n",
    "<font size = \"3\">\n",
    "\n",
    "- Run a regression of \"Potential\" (left-hand side) on \"Age\" (right-hand side)\n",
    "- What are the values of the coefficients?\n",
    "\n",
    "[HINT: Use the commands ```smf.ols()``` and ```.fit()``` and ```.params``` <br>\n",
    "from Lecture 11 ]\n"
   ]
  },
  {
   "cell_type": "code",
   "execution_count": 12,
   "metadata": {},
   "outputs": [
    {
     "name": "stdout",
     "output_type": "stream",
     "text": [
      "Intercept    79.752454\n",
      "Age          -0.346103\n",
      "dtype: float64\n"
     ]
    }
   ],
   "source": [
    "# Write your own code\n",
    "\n",
    "\n",
    "#model = smf.ols(formula = 'potential ~  age', data = df)\n",
    "#results = model.fit()\n",
    "\n",
    "model = smf.ols('Potential ~ Age', data=df).fit() #didnt formula, capitalize, missing .fit here \n",
    "print(model.params)\n",
    "\n"
   ]
  },
  {
   "attachments": {},
   "cell_type": "markdown",
   "metadata": {},
   "source": [
    "<font size = \"5\">\n",
    "\n",
    "(e) Split a dataset into subsets\n",
    "\n",
    "<font size = \"3\">\n",
    "\n",
    "- Store the total number of rows of the dataset in a variable called ```n``` <br>\n",
    "- Create a new variable called ```random_var``` drawn from a <br>\n",
    "uniform distribution between 0 and 1 with size ```n```\n",
    "- Use .query() to subset all observations with ```random_var <0.5```.<br>\n",
    "store it in a new dataset called \"data0\"\n",
    "- Use .query() to subset all observations with ```random_var >= 0.5```.<br>\n",
    "store it in a new dataset called \"data1\"\n",
    "\n",
    "[HINT: See Lecture 2 for how to generate a uniform random variable]\n"
   ]
  },
  {
   "cell_type": "code",
   "execution_count": 15,
   "metadata": {},
   "outputs": [
    {
     "name": "stdout",
     "output_type": "stream",
     "text": [
      "Total rows in the original dataset: 18539\n",
      "Rows in subset data0: 9218\n",
      "Rows in subset data1: 9321\n"
     ]
    }
   ],
   "source": [
    "# Write your own code\n",
    "\n",
    "#n = df.iloc [list_rows, :\n",
    "#display (n)\n",
    "\n",
    "#random_var = display(df.iloc[0:1,:]) #not uniform distribution \n",
    "\n",
    "#did not have time to complete/debug \n",
    " \n",
    "n = len(df)\n",
    "random_var = np.random.uniform(0, 1, size=n)\n",
    "df['random_var'] = random_var  #add random_var to dataset \n",
    "\n",
    "#subset all observations \n",
    "data0 = df.query('random_var < 0.5')\n",
    "data1 = df.query('random_var >= 0.5')\n",
    "\n",
    "print(f\"Total rows in the original dataset: {n}\")\n",
    "print(f\"Rows in subset data0: {len(data0)}\")\n",
    "print(f\"Rows in subset data1: {len(data1)}\")\n"
   ]
  },
  {
   "attachments": {},
   "cell_type": "markdown",
   "metadata": {},
   "source": [
    "<font size = \"5\">\n",
    "\n",
    "(f) Create two overlapping histogram plots\n",
    "\n",
    "<font size = \"3\">\n",
    "\n",
    "- This question requires the two datasets you created in (e)\n",
    "- Display the distribution of \"Age\" for \"data0\" and \"data1\" using <br>\n",
    "```plt.hist()```\n",
    "- You will need to label the axes, and the title\n",
    "- To get full points, plot the histograms with the option  ```alpha = 0.5```, e.g. <br>\n",
    " ``` plt.hist(x = ..., alpha = 0.5) ``` <br>\n",
    " Make sure to substitute the corresponding \"x\" vector instead of ```...``` <br>\n",
    "(The alpha option sets the transparency of the histogram )\n",
    "\n",
    "Note: The goal of this question is to illustrate that random <br>\n",
    "assignment produces very similar distributions between two groups"
   ]
  },
  {
   "cell_type": "code",
   "execution_count": 16,
   "metadata": {},
   "outputs": [
    {
     "data": {
      "image/png": "[encoded data removed]",
      "text/plain": [
       "<Figure size 640x480 with 1 Axes>"
      ]
     },
     "metadata": {},
     "output_type": "display_data"
    }
   ],
   "source": [
    "# Write your own code\n",
    "\n",
    "#did not have time to complete \n",
    "\n",
    "plt.hist(data0['Age'], alpha=0.5, label='data0 Age Distribution') \n",
    "plt.hist(data1['Age'], alpha=0.5, label='data1 Age Distribution') \n",
    "\n",
    "#labeling axis \n",
    "plt.xlabel('Age')\n",
    "plt.ylabel('Frequency')\n",
    "plt.title('Age Distribution Comparison between data0 and data1')\n",
    "\n",
    "plt.show()\n",
    "\n",
    "\n"
   ]
  }
 ],
 "metadata": {
  "kernelspec": {
   "display_name": "base",
   "language": "python",
   "name": "python3"
  },
  "language_info": {
   "codemirror_mode": {
    "name": "ipython",
    "version": 3
   },
   "file_extension": ".py",
   "mimetype": "text/x-python",
   "name": "python",
   "nbconvert_exporter": "python",
   "pygments_lexer": "ipython3",
   "version": "3.11.5"
  },
  "orig_nbformat": 4,
  "vscode": {
   "interpreter": {
    "hash": "45fc1f684f6f416f40889115beff3ddf69879b64cf4bfee48cb72a61e9d15d1a"
   }
  }
 },
 "nbformat": 4,
 "nbformat_minor": 2
}
