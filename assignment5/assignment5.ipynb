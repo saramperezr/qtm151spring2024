{
 "cells": [
  {
   "attachments": {},
   "cell_type": "markdown",
   "metadata": {},
   "source": [
    "# Assignment 5"
   ]
  },
  {
   "attachments": {},
   "cell_type": "markdown",
   "metadata": {},
   "source": [
    "## Try to submit as an HTML file"
   ]
  },
  {
   "attachments": {},
   "cell_type": "markdown",
   "metadata": {},
   "source": [
    "<font size = \"5\">\n",
    "Print your Emory code below"
   ]
  },
  {
   "cell_type": "code",
   "execution_count": 1,
   "metadata": {},
   "outputs": [
    {
     "name": "stdout",
     "output_type": "stream",
     "text": [
      "2439614\n"
     ]
    }
   ],
   "source": [
    "# Write your answer here:\n",
    "\n",
    "print (\"2439614\")\n"
   ]
  },
  {
   "attachments": {},
   "cell_type": "markdown",
   "metadata": {},
   "source": [
    "<font size = \"5\">\n",
    "\n",
    "Import the \"pandas\" library"
   ]
  },
  {
   "cell_type": "code",
   "execution_count": 19,
   "metadata": {},
   "outputs": [],
   "source": [
    "# Write your answer here:\n",
    "\n",
    "import pandas as pd\n"
   ]
  },
  {
   "attachments": {},
   "cell_type": "markdown",
   "metadata": {},
   "source": [
    "<font size = \"5\">\n",
    "\n",
    "Import the  \"os\" library\n",
    "\n",
    "- This is the \"operating system\" library\n",
    "- Helpful for managing folders"
   ]
  },
  {
   "cell_type": "code",
   "execution_count": 20,
   "metadata": {},
   "outputs": [],
   "source": [
    "# Write your answer here:\n",
    "\n",
    "import os "
   ]
  },
  {
   "attachments": {},
   "cell_type": "markdown",
   "metadata": {},
   "source": [
    "<font size = \"5\">\n",
    "\n",
    "(a) Check the working directory\n",
    "\n",
    "<font size = \"3\">\n",
    "\n",
    "- We will use a new command ``` os.getcwd() ```\n",
    "- This shows you the current working directory (CWD) in your computer\n",
    "- This is usually the folder where your Python notebook is stored\n",
    "\n",
    "(1) Run the following commands:\n",
    "\n",
    "- Get CWD: ``` current_directory = os.getcwd() ```\n",
    "- Print CWD: ``` print(current_directory) ```\n",
    "\n",
    "(2) After getting the working directory, let's check the contents in the cwd. <br>\n",
    "\n",
    "(Please do this in a seperate markdown chunk)\n",
    "\n",
    "- Store the names of the files in the current directory <br>\n",
    "to a list using the command <br>\n",
    "``` os.listdir() ```\n",
    "- Print the list of files: `print(ls_files)`\n",
    "\n",
    "(3) You would see a folder called wdi_data, let's explore what is contained in it.\n",
    "\n",
    "- Change the working directory as the path to folder `wdi_data`: \n",
    "    - Try both\n",
    "        - ```os.chdir(current_directory+\"/\"+ls_files[2])```<br>\n",
    "         (change the list position to reflect the location of 'wdi_data' if necessary)\n",
    "        - ```os.chdir(current_directory+\"/wdi_data\")```\n",
    "\n",
    "- Get the CWR and check the files and folders in the directory: <br>\n",
    " ```print(os.listdir(os.getcwd()))```\n",
    "\n",
    "(4) Change your working directory back to the original ```current_directory```\n"
   ]
  },
  {
   "cell_type": "code",
   "execution_count": 59,
   "metadata": {},
   "outputs": [
    {
     "name": "stdout",
     "output_type": "stream",
     "text": [
      "/Users/saraperez/Documents/GitHub/QTM151_2024/assignment5/wdi_data\n"
     ]
    }
   ],
   "source": [
    "# Write your answer for (1) here\n",
    "\n",
    "os.getcwd() \n",
    "current_directory = os.getcwd()\n",
    "print (current_directory) \n"
   ]
  },
  {
   "cell_type": "code",
   "execution_count": 60,
   "metadata": {},
   "outputs": [
    {
     "name": "stdout",
     "output_type": "stream",
     "text": [
      "['wdi_2020.csv', 'wdi_2000.csv', 'clean_data', 'features.xlsx']\n"
     ]
    }
   ],
   "source": [
    "# Write your answer for (2) here\n",
    "ls_files = os.listdir() #store the names of the files in the current directory in a list \n",
    "print (ls_files) #print the list of files \n"
   ]
  },
  {
   "cell_type": "code",
   "execution_count": 56,
   "metadata": {},
   "outputs": [
    {
     "name": "stdout",
     "output_type": "stream",
     "text": [
      "/Users/saraperez/Documents/GitHub/QTM151_2024/assignment5/wdi_data\n",
      "['wdi_2020.csv', 'wdi_2000.csv', 'clean_data', 'features.xlsx']\n"
     ]
    }
   ],
   "source": [
    "# Write your answer for (3) here\n",
    "\n",
    "os.chdir(\"/Users/saraperez/Documents/GitHub/QTM151_2024/assignment5/wdi_data\") #change working directory to wdi_data folder \n",
    "\n",
    "#os.chdir(/Users/saraperez/Documents/GitHub/QTM151_2024/assignment5/wdi_data)\n",
    "print(os.getcwd()) #get the current working directory to verify change \n",
    "\n",
    "print(os.listdir(os.getcwd())) #check the files and folders in the directory \n"
   ]
  },
  {
   "cell_type": "code",
   "execution_count": 58,
   "metadata": {},
   "outputs": [
    {
     "name": "stdout",
     "output_type": "stream",
     "text": [
      "/Users/saraperez/Documents/GitHub/QTM151_2024/assignment5/wdi_data\n"
     ]
    }
   ],
   "source": [
    "# Write your answer for (4) here\n",
    "\n",
    "os.chdir(current_directory) #change back to the original working directory \n",
    "print(os.getcwd()) #verify change  \n",
    "\n"
   ]
  },
  {
   "attachments": {},
   "cell_type": "markdown",
   "metadata": {},
   "source": [
    "<font size = \"5\">\n",
    "(b) Store dataset `wdi_2000.csv` in another folder\n",
    "\n",
    "<font size = \"3\">\n",
    "\n",
    "<br>\n",
    "\n",
    "- Create a variable: $\\quad$ ``` dataset_name  = \"wdi_2000.csv\" ```\n",
    "- Create a variable: $\\quad$ ``` old_directory = \"wdi_data/\" ```\n",
    "- Create a variable: $\\quad$ ``` new_directory = \"clean_data/\" ```\n",
    "- Create a variable \n",
    "$\\quad$ ``` old_path  = old_directory +  dataset_name```\n",
    "- Create a variable \n",
    "$\\quad$ ``` new_path  = new_directory +  dataset_name```\n",
    "- Read the the csv file in the old location and save it to the new location\n",
    "\n"
   ]
  },
  {
   "cell_type": "code",
   "execution_count": 61,
   "metadata": {},
   "outputs": [],
   "source": [
    "# Write your answer here:\n",
    "\n",
    "#variable for file and directory paths \n",
    "dataset_name = \"wdi_2000.csv\"\n",
    "old_directory = \"/Users/saraperez/Documents/GitHub/QTM151_2024/assignment5/wdi_data/\"\n",
    "new_directory = \"/Users/saraperez/Documents/GitHub/QTM151_2024/assignment5/clean_data/\"\n",
    "\n",
    "old_path = old_directory + dataset_name\n",
    "new_path = new_directory + dataset_name\n",
    "\n",
    "    \n",
    "df = pd.read_csv(old_path)  #read csv file from old location \n",
    "df.to_csv(new_path, index=False) #save the data frame to the new location \n",
    "\n",
    "\n",
    "\n"
   ]
  },
  {
   "attachments": {},
   "cell_type": "markdown",
   "metadata": {},
   "source": [
    "<font size = \"5\">\n",
    "\n",
    "(c) Extract files from a directory\n",
    "\n",
    "\n",
    "<font size = \"3\" >\n",
    "- Get a list of files in the \"wdi_data\" folder\n",
    "\n",
    " ``` list_filenames = os.listdir(\"wdi_data\") ```\n",
    "\n",
    " - Print the list of files\n",
    " - Create an empty list called ```list_csv_files ```\n",
    " - Run a for-loop over ```list_filenames```\n",
    " - Append each element to ```list_csv_files ``` if its name ends in \".csv\"\n",
    " - Add an else statement which prints <br>\n",
    " ``` Filename does not end with .csv```<br>\n",
    "  where \"Filename\" is replaced with the actual file that doesn't end with .csv\n",
    " - Print ```list_csv_files ```\n",
    "\n",
    " The goal is to list all CSV files in the directory\n",
    "\n",
    " HINT:\n",
    " - Read the lecture on boolean variables\n",
    " - To get the 4th to  last character of a string <br>\n",
    " you can first find the length of the string and then subtract 4\n",
    " "
   ]
  },
  {
   "cell_type": "code",
   "execution_count": 65,
   "metadata": {},
   "outputs": [
    {
     "name": "stdout",
     "output_type": "stream",
     "text": [
      "List of files in wdi_data: ['wdi_2020.csv', 'wdi_2000.csv', 'clean_data', 'features.xlsx']\n",
      "clean_data does not end with .csv\n",
      "features.xlsx does not end with .csv\n",
      "List of CSV files: ['wdi_2020.csv', 'wdi_2000.csv']\n"
     ]
    }
   ],
   "source": [
    "# Write your answer here:\n",
    "\n",
    "list_filenames = os.listdir(\"/Users/saraperez/Documents/GitHub/QTM151_2024/assignment5/wdi_data\") #get a list of files in \" \"\n",
    "\n",
    "print(\"List of files in wdi_data:\", list_filenames) #print the list of files \n",
    "list_csv_files = [] #create an empty list \n",
    "\n",
    "for filename in list_filenames:\n",
    "    if filename.endswith(\".csv\"):  #running for loop over \" \"\n",
    "        list_csv_files.append(filename) #append each list if its name ends in .csv \n",
    "    else: #adding else statement \n",
    "                print(f\"{filename} does not end with .csv\") \n",
    "\n",
    "print(\"List of CSV files:\", list_csv_files)\n",
    "\n",
    "\n",
    "\n"
   ]
  },
  {
   "cell_type": "markdown",
   "metadata": {},
   "source": [
    "<font size = \"5\">\n",
    "\n",
    "(c) Extract files from a directory\n",
    "\n",
    "\n",
    "<font size = \"3\" >\n",
    "- Get a list of files in the \"wdi_data\" folder\n",
    "\n",
    " ``` list_filenames = os.listdir(\"wdi_data\") ```\n",
    "\n",
    " - Print the list of files\n",
    " - Create an empty list called ```list_csv_files ```\n",
    " - Run a for-loop over ```list_filenames```\n",
    " - Append each element to ```list_csv_files ``` if its name ends in \".csv\"\n",
    " - Add an else statement which prints <br>\n",
    " ``` Filename does not end with .csv```<br>\n",
    "  where \"Filename\" is replaced with the actual file that doesn't end with .csv\n",
    " - Print ```list_csv_files ```\n",
    "\n",
    " The goal is to list all CSV files in the directory\n",
    "\n",
    " HINT:\n",
    " - Read the lecture on boolean variables\n",
    " - To get the 4th to  last character of a string <br>\n",
    " you can first find the length of the string and then subtract 4\n",
    " "
   ]
  },
  {
   "attachments": {},
   "cell_type": "markdown",
   "metadata": {},
   "source": [
    "<font size = \"5\">\n",
    "\n",
    "(d) Calculating the number of countries that have a  proportion <br>\n",
    " of urban population between 20 and 60 percent\n",
    "\n",
    "<font size = \"3\">\n",
    "\n",
    "- (1) First read the wdi_2020 dataset.\n",
    "- (2) Then calculate the number of countries(rows) <br>\n",
    "that have their \"prop_urbanpopulation\" column between 20 and 60.\n",
    "- (3) Print the resulting output."
   ]
  },
  {
   "cell_type": "code",
   "execution_count": 63,
   "metadata": {},
   "outputs": [
    {
     "name": "stdout",
     "output_type": "stream",
     "text": [
      "Number of countries with urban population proportion between 20% and 60%: 121\n"
     ]
    }
   ],
   "source": [
    "# Write your answer here:\n",
    "\n",
    "\n",
    "df = pd.read_csv(\"/Users/saraperez/Documents/GitHub/QTM151_2024/assignment5/wdi_data/wdi_2020.csv\")\n",
    "countries_in_range = df[(df['prop_urbanpopulation'] >= 20) & (df['prop_urbanpopulation'] <= 60)]\n",
    "number_of_countries = len(countries_in_range)\n",
    "print(f\"Number of countries with urban population proportion between 20% and 60%: {number_of_countries}\")\n",
    "\n"
   ]
  },
  {
   "attachments": {},
   "cell_type": "markdown",
   "metadata": {},
   "source": [
    "<font size = \"5\">\n",
    "\n",
    "(e) Import Python Scripts\n",
    "\n",
    "- import the functions in \n",
    "\n",
    "``` homework_scripts/auxiliaryfunctions.py ```\n",
    "\n",
    "with the alias \"af\"\n",
    "\n",
    "- Create variable with your name.\n",
    "- Enter the variable in \"fn_message\"\n"
   ]
  },
  {
   "cell_type": "code",
   "execution_count": 66,
   "metadata": {},
   "outputs": [
    {
     "name": "stdout",
     "output_type": "stream",
     "text": [
      "Sara Perez, you have successfully imported functions from a python script.\n"
     ]
    }
   ],
   "source": [
    "# Write your answer here:\n",
    "\n",
    "import homeworkscripts.auxiliaryfunctions as af\n",
    "\n",
    "my_name = \"Sara Perez\"\n",
    "af.fn_message(my_name)\n"
   ]
  },
  {
   "attachments": {},
   "cell_type": "markdown",
   "metadata": {},
   "source": [
    "<font size = \"5\">"
   ]
  }
 ],
 "metadata": {
  "kernelspec": {
   "display_name": "base",
   "language": "python",
   "name": "python3"
  },
  "language_info": {
   "codemirror_mode": {
    "name": "ipython",
    "version": 3
   },
   "file_extension": ".py",
   "mimetype": "text/x-python",
   "name": "python",
   "nbconvert_exporter": "python",
   "pygments_lexer": "ipython3",
   "version": "3.11.5"
  },
  "orig_nbformat": 4,
  "vscode": {
   "interpreter": {
    "hash": "45fc1f684f6f416f40889115beff3ddf69879b64cf4bfee48cb72a61e9d15d1a"
   }
  }
 },
 "nbformat": 4,
 "nbformat_minor": 2
}
